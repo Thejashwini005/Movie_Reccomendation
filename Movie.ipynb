{
 "cells": [
  {
   "cell_type": "markdown",
   "metadata": {
    "id": "R1oRN_iiHN_7"
   },
   "source": [
    "Importing the dependencies"
   ]
  },
  {
   "cell_type": "code",
   "execution_count": 1,
   "metadata": {
    "id": "GAGi6hrzFLOb"
   },
   "outputs": [],
   "source": [
    "import numpy as np\n",
    "import pandas as pd\n",
    "import difflib\n",
    "from sklearn.feature_extraction.text import TfidfVectorizer\n",
    "from sklearn.metrics.pairwise import cosine_similarity"
   ]
  },
  {
   "cell_type": "markdown",
   "metadata": {
    "id": "mfIW1BYVIGfP"
   },
   "source": [
    "Data Collection and Pre-Processing"
   ]
  },
  {
   "cell_type": "code",
   "execution_count": 4,
   "metadata": {
    "id": "MOXn7CGdIGBU"
   },
   "outputs": [],
   "source": [
    "# loading the data from the csv file to apandas dataframe\n",
    "movies_data = pd.read_csv(r'F:\\miniproject\\Top Indian Movies.csv')"
   ]
  },
  {
   "cell_type": "code",
   "execution_count": 5,
   "metadata": {
    "colab": {
     "base_uri": "https://localhost:8080/",
     "height": 741
    },
    "executionInfo": {
     "elapsed": 344,
     "status": "ok",
     "timestamp": 1634723840865,
     "user": {
      "displayName": "Siddhardhan",
      "photoUrl": "https://lh3.googleusercontent.com/a-/AOh14GhLJxzQT1JeY0k76q6coYb4x9fQwUPiyqRBlLi5=s64",
      "userId": "07040451508872554906"
     },
     "user_tz": -330
    },
    "id": "cha03lDAIa6l",
    "outputId": "3b8cc985-0a70-4a45-f12e-86ec051466df"
   },
   "outputs": [
    {
     "data": {
      "text/html": [
       "<div>\n",
       "<style scoped>\n",
       "    .dataframe tbody tr th:only-of-type {\n",
       "        vertical-align: middle;\n",
       "    }\n",
       "\n",
       "    .dataframe tbody tr th {\n",
       "        vertical-align: top;\n",
       "    }\n",
       "\n",
       "    .dataframe thead th {\n",
       "        text-align: right;\n",
       "    }\n",
       "</style>\n",
       "<table border=\"1\" class=\"dataframe\">\n",
       "  <thead>\n",
       "    <tr style=\"text-align: right;\">\n",
       "      <th></th>\n",
       "      <th>Title</th>\n",
       "      <th>Year of Release</th>\n",
       "      <th>Rating</th>\n",
       "      <th>Number of Reviews</th>\n",
       "      <th>Popularity Index</th>\n",
       "      <th>Movie Cast</th>\n",
       "      <th>Director</th>\n",
       "      <th>Description</th>\n",
       "    </tr>\n",
       "  </thead>\n",
       "  <tbody>\n",
       "    <tr>\n",
       "      <th>0</th>\n",
       "      <td>Anbe Sivam</td>\n",
       "      <td>2003</td>\n",
       "      <td>8.7</td>\n",
       "      <td>21K</td>\n",
       "      <td>11,629</td>\n",
       "      <td>['Kamal Haasan', 'Madhavan', 'Kiran Rathod', '...</td>\n",
       "      <td>Sundar C.</td>\n",
       "      <td>Two men, one young and arrogant, the other dam...</td>\n",
       "    </tr>\n",
       "    <tr>\n",
       "      <th>1</th>\n",
       "      <td>Golmaal</td>\n",
       "      <td>1979</td>\n",
       "      <td>8.5</td>\n",
       "      <td>19K</td>\n",
       "      <td>39,634</td>\n",
       "      <td>['Amol Palekar', 'Bindiya Goswami', 'Deven Ver...</td>\n",
       "      <td>Hrishikesh Mukherjee</td>\n",
       "      <td>A man's simple lie to secure his job escalates...</td>\n",
       "    </tr>\n",
       "    <tr>\n",
       "      <th>2</th>\n",
       "      <td>Jai Bhim</td>\n",
       "      <td>2021</td>\n",
       "      <td>8.9</td>\n",
       "      <td>193K</td>\n",
       "      <td>898</td>\n",
       "      <td>['Suriya', 'Lijo Mol Jose', 'Manikandan K.', '...</td>\n",
       "      <td>T.J. Gnanavel</td>\n",
       "      <td>When a tribal man is arrested for a case of al...</td>\n",
       "    </tr>\n",
       "    <tr>\n",
       "      <th>3</th>\n",
       "      <td>Nayakan</td>\n",
       "      <td>1987</td>\n",
       "      <td>8.6</td>\n",
       "      <td>20K</td>\n",
       "      <td>17,539</td>\n",
       "      <td>['Kamal Haasan', 'Saranya Ponvannan', 'Delhi G...</td>\n",
       "      <td>Mani Ratnam</td>\n",
       "      <td>A common man's struggles against a corrupt pol...</td>\n",
       "    </tr>\n",
       "    <tr>\n",
       "      <th>4</th>\n",
       "      <td>Pariyerum Perumal</td>\n",
       "      <td>2018</td>\n",
       "      <td>8.7</td>\n",
       "      <td>16K</td>\n",
       "      <td>17,434</td>\n",
       "      <td>['Kathir', 'Anandhi', 'Yogi Babu', 'Lijeesh', ...</td>\n",
       "      <td>Mari Selvaraj</td>\n",
       "      <td>A law student from a lower caste begins a frie...</td>\n",
       "    </tr>\n",
       "  </tbody>\n",
       "</table>\n",
       "</div>"
      ],
      "text/plain": [
       "               Title  Year of Release  Rating Number of Reviews  \\\n",
       "0         Anbe Sivam             2003     8.7               21K   \n",
       "1            Golmaal             1979     8.5               19K   \n",
       "2           Jai Bhim             2021     8.9              193K   \n",
       "3            Nayakan             1987     8.6               20K   \n",
       "4  Pariyerum Perumal             2018     8.7               16K   \n",
       "\n",
       "  Popularity Index                                         Movie Cast  \\\n",
       "0           11,629  ['Kamal Haasan', 'Madhavan', 'Kiran Rathod', '...   \n",
       "1           39,634  ['Amol Palekar', 'Bindiya Goswami', 'Deven Ver...   \n",
       "2              898  ['Suriya', 'Lijo Mol Jose', 'Manikandan K.', '...   \n",
       "3           17,539  ['Kamal Haasan', 'Saranya Ponvannan', 'Delhi G...   \n",
       "4           17,434  ['Kathir', 'Anandhi', 'Yogi Babu', 'Lijeesh', ...   \n",
       "\n",
       "               Director                                        Description  \n",
       "0             Sundar C.  Two men, one young and arrogant, the other dam...  \n",
       "1  Hrishikesh Mukherjee  A man's simple lie to secure his job escalates...  \n",
       "2         T.J. Gnanavel  When a tribal man is arrested for a case of al...  \n",
       "3           Mani Ratnam  A common man's struggles against a corrupt pol...  \n",
       "4         Mari Selvaraj  A law student from a lower caste begins a frie...  "
      ]
     },
     "execution_count": 5,
     "metadata": {},
     "output_type": "execute_result"
    }
   ],
   "source": [
    "# printing the first 5 rows of the dataframe\n",
    "movies_data.head()"
   ]
  },
  {
   "cell_type": "code",
   "execution_count": 6,
   "metadata": {
    "colab": {
     "base_uri": "https://localhost:8080/"
    },
    "executionInfo": {
     "elapsed": 553,
     "status": "ok",
     "timestamp": 1634724093289,
     "user": {
      "displayName": "Siddhardhan",
      "photoUrl": "https://lh3.googleusercontent.com/a-/AOh14GhLJxzQT1JeY0k76q6coYb4x9fQwUPiyqRBlLi5=s64",
      "userId": "07040451508872554906"
     },
     "user_tz": -330
    },
    "id": "Qrtr0oQbIjwF",
    "outputId": "c01323df-5e7f-44ab-a26c-582b1c0f5abb"
   },
   "outputs": [
    {
     "data": {
      "text/plain": [
       "(250, 8)"
      ]
     },
     "execution_count": 6,
     "metadata": {},
     "output_type": "execute_result"
    }
   ],
   "source": [
    "# number of rows and columns in the data frame\n",
    "\n",
    "movies_data.shape"
   ]
  },
  {
   "cell_type": "code",
   "execution_count": 39,
   "metadata": {
    "colab": {
     "base_uri": "https://localhost:8080/"
    },
    "executionInfo": {
     "elapsed": 369,
     "status": "ok",
     "timestamp": 1634724301061,
     "user": {
      "displayName": "Siddhardhan",
      "photoUrl": "https://lh3.googleusercontent.com/a-/AOh14GhLJxzQT1JeY0k76q6coYb4x9fQwUPiyqRBlLi5=s64",
      "userId": "07040451508872554906"
     },
     "user_tz": -330
    },
    "id": "hunvyruUJhVq",
    "outputId": "2c7d6753-ee70-4e37-92a8-05fe7c6d4921"
   },
   "outputs": [
    {
     "name": "stdout",
     "output_type": "stream",
     "text": [
      "['Title', 'Movie Cast', 'Director', 'Description']\n"
     ]
    }
   ],
   "source": [
    "# selecting the relevant features for recommendation\n",
    "\n",
    "selected_features = ['Title','Movie Cast','Director','Description']\n",
    "print(selected_features)"
   ]
  },
  {
   "cell_type": "code",
   "execution_count": 40,
   "metadata": {
    "id": "CKIVE6OWKSYk"
   },
   "outputs": [],
   "source": [
    "# replacing the null valuess with null string\n",
    "\n",
    "for feature in selected_features:\n",
    "  movies_data[feature] = movies_data[feature].fillna('')"
   ]
  },
  {
   "cell_type": "code",
   "execution_count": 41,
   "metadata": {
    "id": "-AMjrRItLCO1"
   },
   "outputs": [],
   "source": [
    "# combining all the 5 selected features\n",
    "\n",
    "combined_features = movies_data['Title']+'  '+movies_data['Movie Cast']+' '+movies_data['Director']+' '+movies_data['Description']"
   ]
  },
  {
   "cell_type": "code",
   "execution_count": 42,
   "metadata": {
    "colab": {
     "base_uri": "https://localhost:8080/"
    },
    "executionInfo": {
     "elapsed": 324,
     "status": "ok",
     "timestamp": 1634724686646,
     "user": {
      "displayName": "Siddhardhan",
      "photoUrl": "https://lh3.googleusercontent.com/a-/AOh14GhLJxzQT1JeY0k76q6coYb4x9fQwUPiyqRBlLi5=s64",
      "userId": "07040451508872554906"
     },
     "user_tz": -330
    },
    "id": "ZYjFXx3aLwTh",
    "outputId": "7639c9e1-8011-4904-d794-274558043c94"
   },
   "outputs": [
    {
     "name": "stdout",
     "output_type": "stream",
     "text": [
      "0      Anbe Sivam  ['Kamal Haasan', 'Madhavan', 'Kira...\n",
      "1      Golmaal  ['Amol Palekar', 'Bindiya Goswami', '...\n",
      "2      Jai Bhim  ['Suriya', 'Lijo Mol Jose', 'Manikan...\n",
      "3      Nayakan  ['Kamal Haasan', 'Saranya Ponvannan',...\n",
      "4      Pariyerum Perumal  ['Kathir', 'Anandhi', 'Yogi...\n",
      "                             ...                        \n",
      "245    24  ['Suriya', 'Samantha Ruth Prabhu', 'Nithya...\n",
      "246    Kapoor and Sons  ['Rishi Kapoor', 'Rajat Kapoo...\n",
      "247    Velaiilla Pattadhari  ['Dhanush', 'Saranya Pon...\n",
      "248    Colour Photo  ['Suhas', 'Chandini Chowdary', '...\n",
      "249    Rockstar  ['Ranbir Kapoor', 'Nargis Fakhri', '...\n",
      "Length: 250, dtype: object\n"
     ]
    }
   ],
   "source": [
    "print(combined_features)"
   ]
  },
  {
   "cell_type": "code",
   "execution_count": 24,
   "metadata": {
    "id": "BfuttC_gLyfF"
   },
   "outputs": [],
   "source": [
    "# converting the text data to feature vectors\n",
    "\n",
    "vectorizer = TfidfVectorizer()"
   ]
  },
  {
   "cell_type": "code",
   "execution_count": 25,
   "metadata": {
    "id": "Leo5rQskMKxL"
   },
   "outputs": [],
   "source": [
    "feature_vectors = vectorizer.fit_transform(combined_features)"
   ]
  },
  {
   "cell_type": "code",
   "execution_count": 11,
   "metadata": {
    "colab": {
     "base_uri": "https://localhost:8080/"
    },
    "executionInfo": {
     "elapsed": 363,
     "status": "ok",
     "timestamp": 1634724865313,
     "user": {
      "displayName": "Siddhardhan",
      "photoUrl": "https://lh3.googleusercontent.com/a-/AOh14GhLJxzQT1JeY0k76q6coYb4x9fQwUPiyqRBlLi5=s64",
      "userId": "07040451508872554906"
     },
     "user_tz": -330
    },
    "id": "qNbeeMSnMb2F",
    "outputId": "d027db64-6879-4086-ad68-b333dd258d25"
   },
   "outputs": [
    {
     "name": "stdout",
     "output_type": "stream",
     "text": [
      "  (0, 201)\t0.07860022416510505\n",
      "  (0, 274)\t0.09021200873707368\n",
      "  (0, 5274)\t0.11108562744414445\n",
      "  (0, 13599)\t0.1036413987316636\n",
      "  (0, 5437)\t0.1036413987316636\n",
      "  (0, 3678)\t0.21392179219912877\n",
      "  (0, 3065)\t0.22208377802661425\n",
      "  (0, 5836)\t0.1646750903586285\n",
      "  (0, 14378)\t0.33962752210959823\n",
      "  (0, 16587)\t0.12549432354918996\n",
      "  (0, 3225)\t0.24960162956997736\n",
      "  (0, 14271)\t0.21392179219912877\n",
      "  (0, 4945)\t0.24025852494110758\n",
      "  (0, 15261)\t0.07095833561276566\n",
      "  (0, 16998)\t0.1282126322850579\n",
      "  (0, 11192)\t0.09049319826481456\n",
      "  (0, 11503)\t0.27211310056983656\n",
      "  (0, 13349)\t0.15021264094167086\n",
      "  (0, 17007)\t0.23643326319898797\n",
      "  (0, 17290)\t0.20197912553916567\n",
      "  (0, 13319)\t0.2177470539412484\n",
      "  (0, 14064)\t0.20596090415084142\n",
      "  (0, 16668)\t0.19843263965100372\n",
      "  (0, 14608)\t0.15150672398763912\n",
      "  (0, 8756)\t0.22709015857011816\n",
      "  :\t:\n",
      "  (4801, 403)\t0.17727585190343229\n",
      "  (4801, 4835)\t0.24713765026964\n",
      "  (4801, 17266)\t0.28860981849329476\n",
      "  (4801, 13835)\t0.27870029291200094\n",
      "  (4801, 13175)\t0.28860981849329476\n",
      "  (4801, 17150)\t0.3025765103586468\n",
      "  (4801, 3511)\t0.3025765103586468\n",
      "  (4801, 13948)\t0.3025765103586468\n",
      "  (4801, 7269)\t0.3025765103586468\n",
      "  (4802, 11161)\t0.17867407682173203\n",
      "  (4802, 4518)\t0.16784466610624255\n",
      "  (4802, 2129)\t0.3099656128577656\n",
      "  (4802, 4980)\t0.16078053641367315\n",
      "  (4802, 6155)\t0.18056463596934083\n",
      "  (4802, 3436)\t0.21753405888348784\n",
      "  (4802, 4528)\t0.19504460807622875\n",
      "  (4802, 1316)\t0.1960747079005741\n",
      "  (4802, 12989)\t0.1696476532191718\n",
      "  (4802, 4371)\t0.1538239182675544\n",
      "  (4802, 6417)\t0.21753405888348784\n",
      "  (4802, 4608)\t0.24002350969074696\n",
      "  (4802, 2425)\t0.24002350969074696\n",
      "  (4802, 3654)\t0.262512960498006\n",
      "  (4802, 5367)\t0.22969114490410403\n",
      "  (4802, 6996)\t0.5700048226105303\n"
     ]
    }
   ],
   "source": [
    "print(feature_vectors)"
   ]
  },
  {
   "cell_type": "markdown",
   "metadata": {
    "id": "qEGga5yPMnXO"
   },
   "source": [
    "Cosine Similarity"
   ]
  },
  {
   "cell_type": "code",
   "execution_count": 43,
   "metadata": {
    "id": "MsKYCs31MeB6"
   },
   "outputs": [],
   "source": [
    "# getting the similarity scores using cosine similarity\n",
    "\n",
    "similarity = cosine_similarity(feature_vectors)"
   ]
  },
  {
   "cell_type": "code",
   "execution_count": 27,
   "metadata": {
    "colab": {
     "base_uri": "https://localhost:8080/"
    },
    "executionInfo": {
     "elapsed": 350,
     "status": "ok",
     "timestamp": 1634725004306,
     "user": {
      "displayName": "Siddhardhan",
      "photoUrl": "https://lh3.googleusercontent.com/a-/AOh14GhLJxzQT1JeY0k76q6coYb4x9fQwUPiyqRBlLi5=s64",
      "userId": "07040451508872554906"
     },
     "user_tz": -330
    },
    "id": "46ha1PfTM-oQ",
    "outputId": "44407f14-2d52-436e-a815-e933ec75b4df"
   },
   "outputs": [
    {
     "name": "stdout",
     "output_type": "stream",
     "text": [
      "[[1.         0.         0.01927236 ... 0.02128514 0.03082508 0.00206493]\n",
      " [0.         1.         0.02314387 ... 0.04687896 0.         0.00920606]\n",
      " [0.01927236 0.02314387 1.         ... 0.0300872  0.02011913 0.01125063]\n",
      " ...\n",
      " [0.02128514 0.04687896 0.0300872  ... 1.         0.         0.        ]\n",
      " [0.03082508 0.         0.02011913 ... 0.         1.         0.02136623]\n",
      " [0.00206493 0.00920606 0.01125063 ... 0.         0.02136623 1.        ]]\n"
     ]
    }
   ],
   "source": [
    "print(similarity)"
   ]
  },
  {
   "cell_type": "code",
   "execution_count": 28,
   "metadata": {
    "colab": {
     "base_uri": "https://localhost:8080/"
    },
    "executionInfo": {
     "elapsed": 482,
     "status": "ok",
     "timestamp": 1634725020030,
     "user": {
      "displayName": "Siddhardhan",
      "photoUrl": "https://lh3.googleusercontent.com/a-/AOh14GhLJxzQT1JeY0k76q6coYb4x9fQwUPiyqRBlLi5=s64",
      "userId": "07040451508872554906"
     },
     "user_tz": -330
    },
    "id": "PLkvII-wM_5I",
    "outputId": "de638c77-1595-4d1a-f8d2-db6a3c1aabf0"
   },
   "outputs": [
    {
     "name": "stdout",
     "output_type": "stream",
     "text": [
      "(250, 250)\n"
     ]
    }
   ],
   "source": [
    "print(similarity.shape)"
   ]
  },
  {
   "cell_type": "markdown",
   "metadata": {
    "id": "EG3JItMUWeDD"
   },
   "source": [
    "Getting the movie name from the user"
   ]
  },
  {
   "cell_type": "code",
   "execution_count": 29,
   "metadata": {
    "colab": {
     "base_uri": "https://localhost:8080/"
    },
    "executionInfo": {
     "elapsed": 12981,
     "status": "ok",
     "timestamp": 1634725163988,
     "user": {
      "displayName": "Siddhardhan",
      "photoUrl": "https://lh3.googleusercontent.com/a-/AOh14GhLJxzQT1JeY0k76q6coYb4x9fQwUPiyqRBlLi5=s64",
      "userId": "07040451508872554906"
     },
     "user_tz": -330
    },
    "id": "bhSWJgqgNDo7",
    "outputId": "844a3764-cab2-455a-b418-9d8435c6be2b"
   },
   "outputs": [
    {
     "name": "stdout",
     "output_type": "stream",
     "text": [
      " Enter your favourite movie name : 3 Idiots\n"
     ]
    }
   ],
   "source": [
    "# getting the movie name from the user\n",
    "\n",
    "movie_name = input(' Enter your favourite movie name : ')"
   ]
  },
  {
   "cell_type": "code",
   "execution_count": 31,
   "metadata": {
    "colab": {
     "base_uri": "https://localhost:8080/"
    },
    "executionInfo": {
     "elapsed": 999,
     "status": "ok",
     "timestamp": 1634725273984,
     "user": {
      "displayName": "Siddhardhan",
      "photoUrl": "https://lh3.googleusercontent.com/a-/AOh14GhLJxzQT1JeY0k76q6coYb4x9fQwUPiyqRBlLi5=s64",
      "userId": "07040451508872554906"
     },
     "user_tz": -330
    },
    "id": "VQ8Qvu8vNj4U",
    "outputId": "37234fc1-b609-4aeb-b739-d2da20b344a5"
   },
   "outputs": [
    {
     "name": "stdout",
     "output_type": "stream",
     "text": [
      "['Anbe Sivam', 'Golmaal', 'Jai Bhim', 'Nayakan', 'Pariyerum Perumal', 'Rocketry: The Nambi Effect', '3 Idiots', 'Apur Sansar', 'Manichitrathazhu', 'Kumbalangi Nights', 'Black Friday', 'Like Stars on Earth', 'C/o Kancharapalem', '#Home', 'Soorarai Pottru', 'Dangal', 'Kireedam', 'Kaithi', 'Jersey', 'Thevar Magan', 'Asuran', '96', 'Visaaranai', 'Pather Panchali', 'Thalapathi', 'Natsamrat', 'Sarpatta Parambarai', 'Drishyam 2', 'Thani Oruvan', 'Sardar Udham', 'Aparajito', 'Vada Chennai', 'Jaane Bhi Do Yaaro', 'Khosla Ka Ghosla!', 'Vikram', 'Drishyam', 'Chupke Chupke', 'Peranbu', 'Agent Sai Srinivasa Athreya', 'Anniyan', 'Mahanati', 'Bangalore Days', 'Satya', 'Super Deluxe', 'Premam', 'Ratsasan', 'Gangs of Wasseypur', 'Devasuram', 'Bhaag Milkha Bhaag', 'Andhadhun', 'Drishyam', 'Aruvi', 'Kannathil Muthamittal', 'Guide', 'Chithram', 'Shahid', 'Iruvar', 'Vikram Vedha', 'Sairat', 'Zindage na milegi dobara', 'Paan Singh Tomar', 'Tumbbad', 'Mudhalvan', 'Chhichhore', '777 Charlie', 'Dhuruvangal Pathinaaru', 'Spadikam', 'Swades', 'Black', \"Let's Go! India\", 'Jo Jeeta Wohi Sikandar', 'Papanasam', 'Pudhu Pettai', 'Pyaasa', 'Mandela', 'Munna Bhai M.B.B.S.', 'PK', 'Soodhu Kavvum', 'Article 15', 'Uri: The Surgical Strike', 'Queen', 'Talvar', 'Kaakkaa Muttai', 'Lagaan: Once Upon A Time in India', 'OMG: Oh My God!', 'Jigarthanda', 'Sarfarosh', 'Udaan', 'Barfi!', 'Theeran Adhigaaram Ondru', 'Sholay', 'Hera Pheri', 'Ustad Hotel', 'The Legend of Bhagat Singh', 'Color It Yellow', 'Angoor', 'Baasha', 'Baahubali 2: The Conclusion', 'Masaan', 'Kahaani', 'Dil Chahta Hai', 'Maheshinte Prathikaaram', 'A Wednesday', 'Virumandi', 'Roja', 'Iqbal', 'Nil Battey Sannata', 'Pink', 'Pithamagan', 'Carry On, Munna Bhai', 'Kaun Pravin Tambe?', 'Shershaah', 'Charulata', 'Anand', 'Section 375', 'Alai Payuthey', 'Jana Gana Mana', 'Bajrang Bhaijaan', 'Omkara', 'Lucia', 'Bombay', 'K.G.F. Chapter 2', 'Oru Vadakkan Veeragatha', 'Bommarillu', 'Indian', 'K.G.F. Chapter 1', 'The Great Indian Kitchen', 'Haider', 'Rangasthalam 1985', 'Mughal-E-Azam', 'Dilwale Dulhania Le Jayenge', 'Special 26', 'Maqbool', 'Athadu', 'Andaz Apna Apna', 'Maanaadu', 'Thadam', 'Padayappa', 'Pelli Choopulu', 'Vaaranam Aayiram', 'Android Kunjappan Version 5.25', 'Gulaal', 'Gully Boy', 'Naduvula Konjam Pakkatha Kaanom', 'Ugly', 'Badhaai ho', 'Deewaar', 'Vaastav: The Reality', 'Company', 'Evaru', 'Kshanam', 'Ulidavaru Kandanthe', 'Padosan', 'Aadukalam', 'Maanagaram', 'Nayattu', 'Thondimuthalum Dhriksakshiyum', 'Dev. D', 'Major', 'My Name is Khan', 'Pranchiyettan and the Saint', 'Take Off', 'Kal Ho Naa Ho', 'Baishe Srabon', 'Arjun Reddy', 'Jab We Met', 'Manjhi: The Mountain Man', 'Ayyappanum Koshiyum', 'Super 30', 'Dil Bechara', 'Mukkabaaz', 'Karnan', 'Deiva Thirumagal', 'Border', 'Ship of Theseus', 'Jalsaghar', 'Vedam', 'Charlie', 'Pad Man', 'RRR', 'Salaam Bombay!', 'Baahubali : The Beginning', 'Ankhon Dekhi', 'Baby', 'Vinnaithaandi Varuvaayaa', 'Malik', 'Pizza', 'M.S. Dhoni: The Untold Story', 'Kirik Party', 'English Vinglish', 'Hindi Medium', 'Lakshya', 'Dor', 'Memories', 'Airlift', 'Johnny Gaddaar', 'Hey Ram', 'Joseph', 'Kaakha..Kaakha: The Police', 'Hridayam', 'The Tashkent Files', 'Gangaajal', 'Anjaam Pathiraa', 'Vettaiyaadu Vilaiyaadu', 'Mumbai Police', 'The LunchBox', 'Ab Tak Chhappan', 'Okkadu', 'Unnaipol Oruvan', 'Secret Superstar', 'Pokiri', 'Angamaly Diaries', 'Thuppakki', 'Manam', 'Oopiri', 'Vicky Donor', 'Ghilli', 'Mother India', 'RangiTaranga', 'Veer Zarra', 'Stanley Ka Dabba', 'Mimi', 'Kaththi', 'Rock On!!', 'Udta Punjab', 'Nayak: The Real Hero', 'Mr. India', 'Dia', 'Badla', 'Happy Days', 'Minnal Murali', 'Raazi', 'Sonchiriya', 'Thulladha Manamum Thullum', 'Dasvidaniya', 'Aayirathil Oruvan', 'Poove Unakkaga', 'Kai Po Che', 'Joji', 'Goodachari', 'Ko', 'Don', 'Aligarh', 'Ennu Ninte Moideen', 'Guru', '24', 'Kapoor and Sons', 'Velaiilla Pattadhari', 'Colour Photo', 'Rockstar']\n"
     ]
    }
   ],
   "source": [
    "# creating a list with all the movie names given in the dataset\n",
    "\n",
    "list_of_all_titles = movies_data['Title'].tolist()\n",
    "print(list_of_all_titles)"
   ]
  },
  {
   "cell_type": "code",
   "execution_count": 44,
   "metadata": {
    "colab": {
     "base_uri": "https://localhost:8080/"
    },
    "executionInfo": {
     "elapsed": 363,
     "status": "ok",
     "timestamp": 1634725395203,
     "user": {
      "displayName": "Siddhardhan",
      "photoUrl": "https://lh3.googleusercontent.com/a-/AOh14GhLJxzQT1JeY0k76q6coYb4x9fQwUPiyqRBlLi5=s64",
      "userId": "07040451508872554906"
     },
     "user_tz": -330
    },
    "id": "u1HTkBLIOBjf",
    "outputId": "2e25e165-51f8-4370-de21-1005adbb1660"
   },
   "outputs": [
    {
     "name": "stdout",
     "output_type": "stream",
     "text": [
      "['3 Idiots']\n"
     ]
    }
   ],
   "source": [
    "# finding the close match for the movie name given by the user\n",
    "\n",
    "find_close_match = difflib.get_close_matches(movie_name, list_of_all_titles)\n",
    "print(find_close_match)"
   ]
  },
  {
   "cell_type": "code",
   "execution_count": 33,
   "metadata": {
    "colab": {
     "base_uri": "https://localhost:8080/"
    },
    "executionInfo": {
     "elapsed": 420,
     "status": "ok",
     "timestamp": 1634725466653,
     "user": {
      "displayName": "Siddhardhan",
      "photoUrl": "https://lh3.googleusercontent.com/a-/AOh14GhLJxzQT1JeY0k76q6coYb4x9fQwUPiyqRBlLi5=s64",
      "userId": "07040451508872554906"
     },
     "user_tz": -330
    },
    "id": "CgiC-enuOfXx",
    "outputId": "a9a746b0-7833-42aa-d826-3a07388b310b"
   },
   "outputs": [
    {
     "name": "stdout",
     "output_type": "stream",
     "text": [
      "3 Idiots\n"
     ]
    }
   ],
   "source": [
    "close_match = find_close_match[0]\n",
    "print(close_match)"
   ]
  },
  {
   "cell_type": "code",
   "execution_count": 36,
   "metadata": {
    "colab": {
     "base_uri": "https://localhost:8080/"
    },
    "executionInfo": {
     "elapsed": 335,
     "status": "ok",
     "timestamp": 1634725677590,
     "user": {
      "displayName": "Siddhardhan",
      "photoUrl": "https://lh3.googleusercontent.com/a-/AOh14GhLJxzQT1JeY0k76q6coYb4x9fQwUPiyqRBlLi5=s64",
      "userId": "07040451508872554906"
     },
     "user_tz": -330
    },
    "id": "CNXJfY-FOw1I",
    "outputId": "14adcf60-d9f6-4afd-e404-629581ebf3a0"
   },
   "outputs": [
    {
     "name": "stdout",
     "output_type": "stream",
     "text": [
      "8.4\n"
     ]
    }
   ],
   "source": [
    "# finding the index of the movie with title\n",
    "\n",
    "index_of_the_movie = movies_data[movies_data.Title == close_match]['Rating'].values[0]\n",
    "print(index_of_the_movie)"
   ]
  },
  {
   "cell_type": "code",
   "execution_count": 46,
   "metadata": {},
   "outputs": [
    {
     "name": "stdout",
     "output_type": "stream",
     "text": [
      "<class 'numpy.float64'>\n",
      "8.4\n"
     ]
    }
   ],
   "source": [
    "print(type(index_of_the_movie))\n",
    "print(index_of_the_movie)\n"
   ]
  },
  {
   "cell_type": "code",
   "execution_count": 47,
   "metadata": {},
   "outputs": [
    {
     "name": "stdout",
     "output_type": "stream",
     "text": [
      "250\n",
      "8.4\n"
     ]
    }
   ],
   "source": [
    "print(len(similarity))\n",
    "print(index_of_the_movie)\n"
   ]
  },
  {
   "cell_type": "code",
   "execution_count": 48,
   "metadata": {},
   "outputs": [],
   "source": [
    "index_of_the_movie = int(index_of_the_movie)\n"
   ]
  },
  {
   "cell_type": "code",
   "execution_count": 49,
   "metadata": {},
   "outputs": [
    {
     "name": "stdout",
     "output_type": "stream",
     "text": [
      "[(0, 0.0042504420700198295), (1, 0.007700230289385753), (2, 0.02077104003314457), (3, 0.02907289739465101), (4, 0.004739255408475557), (5, 0.020084728887122063), (6, 0.012168955173591022), (7, 0.005820625667660371), (8, 0.9999999999999997), (9, 0.007960454215015391), (10, 0.008713426392057542), (11, 0.051091149190830076), (12, 0.011788531281424148), (13, 0.017437715491617947), (14, 0.017886325245575665), (15, 0.007596639068439659), (16, 0.05627305803275403), (17, 0.006284124130861831), (18, 0.004874703432205887), (19, 0.007664019445457961), (20, 0.02310479631450565), (21, 0.0191568712281221), (22, 0.006497687985416422), (23, 0.0057808473467190185), (24, 0.04962929089486259), (25, 0.00444604083492725), (26, 0.02253204287891527), (27, 0.04827579393236098), (28, 0.03251532015504278), (29, 0.00779343974209098), (30, 0.002462273274141402), (31, 0.01003816320366419), (32, 0.0016250744403867176), (33, 0.00368059774608561), (34, 0.05562070368296792), (35, 0.02257299973306777), (36, 0.0), (37, 0.010252966266447243), (38, 0.04080070306799415), (39, 0.033661641957962556), (40, 0.03460801476655388), (41, 0.05910180043114077), (42, 0.036848798194324545), (43, 0.016176074463929185), (44, 0.007917912937345433), (45, 0.009358378762962916), (46, 0.013783829415322696), (47, 0.0917864713926435), (48, 0.008866099937487479), (49, 0.00815997606389331), (50, 0.010072927827491428), (51, 0.020239161461380505), (52, 0.022166651623272804), (53, 0.012050816186867366), (54, 0.10622176128958066), (55, 0.02023913277418294), (56, 0.04431532357003235), (57, 0.017295420159406768), (58, 0.020481335507930406), (59, 0.0019971953037681476), (60, 0.012983979151984824), (61, 0.034256638248738355), (62, 0.025489524892440996), (63, 0.0037209360164103525), (64, 0.016248325384498368), (65, 0.037366545044074995), (66, 0.09998273604640008), (67, 0.008720375252677418), (68, 0.0074238325535741344), (69, 0.006928208292018313), (70, 0.005827460859145631), (71, 0.023685120469054147), (72, 0.031730066524265035), (73, 0.0027166377928353356), (74, 0.014530209724003304), (75, 0.01774530229503118), (76, 0.028150085463446134), (77, 0.024453108353917345), (78, 0.010422683361739822), (79, 0.005173643852935296), (80, 0.0), (81, 0.0173579003833707), (82, 0.014049248087025531), (83, 0.011121574195296649), (84, 0.024455191294308825), (85, 0.02417337756850129), (86, 0.012141094724859318), (87, 0.02206762809301685), (88, 0.0021262848749920176), (89, 0.02928179327918279), (90, 0.019433527111744002), (91, 0.011618784292773842), (92, 0.022664223630196708), (93, 0.022949242834901754), (94, 0.014194938515504383), (95, 0.019837180514418608), (96, 0.025517499336566097), (97, 0.025985458747718678), (98, 0.0039046582396649715), (99, 0.0), (100, 0.004468690672653551), (101, 0.013782498059459825), (102, 0.009566080344337705), (103, 0.006249890371684994), (104, 0.013129022987702531), (105, 0.04453228132141177), (106, 0.017583188601679407), (107, 0.0103557238896052), (108, 0.008004150559645436), (109, 0.002514418192064062), (110, 0.025870679826669664), (111, 0.008027553036348983), (112, 0.008335042329414677), (113, 0.03229207024248197), (114, 0.00403515616105347), (115, 0.06280158047728548), (116, 0.029267536562077805), (117, 0.00433516223057594), (118, 0.014934517489715807), (119, 0.02837268785451097), (120, 0.018856354496761422), (121, 0.00883756014860818), (122, 0.05717658575791902), (123, 0.0), (124, 0.04467203197352431), (125, 0.013350042751582119), (126, 0.04158246550086091), (127, 0.00870260741923061), (128, 0.028795471233117258), (129, 0.08919438137037351), (130, 0.023580577599005198), (131, 0.006420623671718647), (132, 0.01888075614829813), (133, 0.01190631748750345), (134, 0.027185838203581402), (135, 0.009244135290460635), (136, 0.01645673379801718), (137, 0.014244992793354515), (138, 0.004550916392078225), (139, 0.010624405546050642), (140, 0.01798676404958361), (141, 0.0022280308937739704), (142, 0.008772030899970794), (143, 0.014613333422510444), (144, 0.01952139130028386), (145, 0.02663505381875023), (146, 0.020145606050160768), (147, 0.03215002197249489), (148, 0.027407462393664733), (149, 0.026880650911064143), (150, 0.023027484857281354), (151, 0.014453868639448697), (152, 0.01288400977492464), (153, 0.014606789164167008), (154, 0.007746121964837439), (155, 0.00912916731159123), (156, 0.027084311237524885), (157, 0.02186551351147859), (158, 0.02752927350718593), (159, 0.0178995910726976), (160, 0.032376647372260675), (161, 0.020338232858490173), (162, 0.021156847421301257), (163, 0.012589354879522174), (164, 0.015591326089567701), (165, 0.0), (166, 0.005591056008256845), (167, 0.006766580493916594), (168, 0.036148582240519096), (169, 0.010122360736041721), (170, 0.01398270737098253), (171, 0.0175130940106952), (172, 0.042699520247100026), (173, 0.008423476766931528), (174, 0.013956138733602188), (175, 0.014595160116880487), (176, 0.04045130027260478), (177, 0.060463231006139984), (178, 0.008439850703194567), (179, 0.0025818098968240747), (180, 0.008278870300118946), (181, 0.03018360193712488), (182, 0.0025123507312875956), (183, 0.015774956697535696), (184, 0.027046574081951394), (185, 0.02099505455494005), (186, 0.021971187160948327), (187, 0.013628293593572545), (188, 0.025148163663495357), (189, 0.005266291511540894), (190, 0.007695458101640786), (191, 0.006690790092832157), (192, 0.01505637255030034), (193, 0.06111354702577266), (194, 0.019635018714136226), (195, 0.00504297714121485), (196, 0.032692415256425626), (197, 0.02781251686576682), (198, 0.0035577167206370286), (199, 0.02144932967120981), (200, 0.01635544570840183), (201, 0.008793974925385495), (202, 0.024422930067429786), (203, 0.027198939450333342), (204, 0.0365012049476346), (205, 0.01947741662285034), (206, 0.02074683325885937), (207, 0.009119435984223802), (208, 0.04633729957448158), (209, 0.002449981235736309), (210, 0.03661715338540502), (211, 0.019292496465025104), (212, 0.015138009162454284), (213, 0.0058809688404918604), (214, 0.010819097819037643), (215, 0.02075444272821065), (216, 0.021467880742148917), (217, 0.012343623719229944), (218, 0.0039448926058041804), (219, 0.02434207278211239), (220, 0.010954933308054129), (221, 0.0310321838714466), (222, 0.010268104193294592), (223, 0.002068062756812392), (224, 0.013121168110955195), (225, 0.021067085706997977), (226, 0.010941212165181149), (227, 0.021523254832824704), (228, 0.026784968243455543), (229, 0.011219001736164627), (230, 0.048481882156928585), (231, 0.006309421475134021), (232, 0.025761591482130967), (233, 0.01154769005150943), (234, 0.031429318690534155), (235, 0.015097220424587084), (236, 0.03416050225173834), (237, 0.013688897594320489), (238, 0.04060138115389711), (239, 0.019133131098980096), (240, 0.01757143945474464), (241, 0.01823947670638395), (242, 0.012416290527653227), (243, 0.019648292143271247), (244, 0.008319735955200656), (245, 0.004501982143777958), (246, 0.0016566006856640115), (247, 0.0), (248, 0.01957767881839734), (249, 0.0045843260220608546)]\n"
     ]
    }
   ],
   "source": [
    "if isinstance(index_of_the_movie, int) and 0 <= index_of_the_movie < len(similarity):\n",
    "    similarity_score = list(enumerate(similarity[index_of_the_movie]))\n",
    "    print(similarity_score)\n",
    "else:\n",
    "    print(\"Invalid index_of_the_movie:\", index_of_the_movie)\n"
   ]
  },
  {
   "cell_type": "code",
   "execution_count": 50,
   "metadata": {
    "colab": {
     "base_uri": "https://localhost:8080/"
    },
    "executionInfo": {
     "elapsed": 350,
     "status": "ok",
     "timestamp": 1634725939401,
     "user": {
      "displayName": "Siddhardhan",
      "photoUrl": "https://lh3.googleusercontent.com/a-/AOh14GhLJxzQT1JeY0k76q6coYb4x9fQwUPiyqRBlLi5=s64",
      "userId": "07040451508872554906"
     },
     "user_tz": -330
    },
    "id": "mMrxw-leQNtP",
    "outputId": "39a3002d-9c35-42a0-a78b-7d0a8d50376c"
   },
   "outputs": [
    {
     "data": {
      "text/plain": [
       "250"
      ]
     },
     "execution_count": 50,
     "metadata": {},
     "output_type": "execute_result"
    }
   ],
   "source": [
    "len(similarity_score)"
   ]
  },
  {
   "cell_type": "code",
   "execution_count": 51,
   "metadata": {
    "colab": {
     "base_uri": "https://localhost:8080/"
    },
    "executionInfo": {
     "elapsed": 683,
     "status": "ok",
     "timestamp": 1634726146940,
     "user": {
      "displayName": "Siddhardhan",
      "photoUrl": "https://lh3.googleusercontent.com/a-/AOh14GhLJxzQT1JeY0k76q6coYb4x9fQwUPiyqRBlLi5=s64",
      "userId": "07040451508872554906"
     },
     "user_tz": -330
    },
    "id": "SkXgFLePQkHL",
    "outputId": "54171e01-edf3-4cf9-fede-124c451db257"
   },
   "outputs": [
    {
     "name": "stdout",
     "output_type": "stream",
     "text": [
      "[(8, 0.9999999999999997), (54, 0.10622176128958066), (66, 0.09998273604640008), (47, 0.0917864713926435), (129, 0.08919438137037351), (115, 0.06280158047728548), (193, 0.06111354702577266), (177, 0.060463231006139984), (41, 0.05910180043114077), (122, 0.05717658575791902), (16, 0.05627305803275403), (34, 0.05562070368296792), (11, 0.051091149190830076), (24, 0.04962929089486259), (230, 0.048481882156928585), (27, 0.04827579393236098), (208, 0.04633729957448158), (124, 0.04467203197352431), (105, 0.04453228132141177), (56, 0.04431532357003235), (172, 0.042699520247100026), (126, 0.04158246550086091), (38, 0.04080070306799415), (238, 0.04060138115389711), (176, 0.04045130027260478), (65, 0.037366545044074995), (42, 0.036848798194324545), (210, 0.03661715338540502), (204, 0.0365012049476346), (168, 0.036148582240519096), (40, 0.03460801476655388), (61, 0.034256638248738355), (236, 0.03416050225173834), (39, 0.033661641957962556), (196, 0.032692415256425626), (28, 0.03251532015504278), (160, 0.032376647372260675), (113, 0.03229207024248197), (147, 0.03215002197249489), (72, 0.031730066524265035), (234, 0.031429318690534155), (221, 0.0310321838714466), (181, 0.03018360193712488), (89, 0.02928179327918279), (116, 0.029267536562077805), (3, 0.02907289739465101), (128, 0.028795471233117258), (119, 0.02837268785451097), (76, 0.028150085463446134), (197, 0.02781251686576682), (158, 0.02752927350718593), (148, 0.027407462393664733), (203, 0.027198939450333342), (134, 0.027185838203581402), (156, 0.027084311237524885), (184, 0.027046574081951394), (149, 0.026880650911064143), (228, 0.026784968243455543), (145, 0.02663505381875023), (97, 0.025985458747718678), (110, 0.025870679826669664), (232, 0.025761591482130967), (96, 0.025517499336566097), (62, 0.025489524892440996), (188, 0.025148163663495357), (84, 0.024455191294308825), (77, 0.024453108353917345), (202, 0.024422930067429786), (219, 0.02434207278211239), (85, 0.02417337756850129), (71, 0.023685120469054147), (130, 0.023580577599005198), (20, 0.02310479631450565), (150, 0.023027484857281354), (93, 0.022949242834901754), (92, 0.022664223630196708), (35, 0.02257299973306777), (26, 0.02253204287891527), (52, 0.022166651623272804), (87, 0.02206762809301685), (186, 0.021971187160948327), (157, 0.02186551351147859), (227, 0.021523254832824704), (216, 0.021467880742148917), (199, 0.02144932967120981), (162, 0.021156847421301257), (225, 0.021067085706997977), (185, 0.02099505455494005), (2, 0.02077104003314457), (215, 0.02075444272821065), (206, 0.02074683325885937), (58, 0.020481335507930406), (161, 0.020338232858490173), (51, 0.020239161461380505), (55, 0.02023913277418294), (146, 0.020145606050160768), (5, 0.020084728887122063), (95, 0.019837180514418608), (243, 0.019648292143271247), (194, 0.019635018714136226), (248, 0.01957767881839734), (144, 0.01952139130028386), (205, 0.01947741662285034), (90, 0.019433527111744002), (211, 0.019292496465025104), (21, 0.0191568712281221), (239, 0.019133131098980096), (132, 0.01888075614829813), (120, 0.018856354496761422), (241, 0.01823947670638395), (140, 0.01798676404958361), (159, 0.0178995910726976), (14, 0.017886325245575665), (75, 0.01774530229503118), (106, 0.017583188601679407), (240, 0.01757143945474464), (171, 0.0175130940106952), (13, 0.017437715491617947), (81, 0.0173579003833707), (57, 0.017295420159406768), (136, 0.01645673379801718), (200, 0.01635544570840183), (64, 0.016248325384498368), (43, 0.016176074463929185), (183, 0.015774956697535696), (164, 0.015591326089567701), (212, 0.015138009162454284), (235, 0.015097220424587084), (192, 0.01505637255030034), (118, 0.014934517489715807), (143, 0.014613333422510444), (153, 0.014606789164167008), (175, 0.014595160116880487), (74, 0.014530209724003304), (151, 0.014453868639448697), (137, 0.014244992793354515), (94, 0.014194938515504383), (82, 0.014049248087025531), (170, 0.01398270737098253), (174, 0.013956138733602188), (46, 0.013783829415322696), (101, 0.013782498059459825), (237, 0.013688897594320489), (187, 0.013628293593572545), (125, 0.013350042751582119), (104, 0.013129022987702531), (224, 0.013121168110955195), (60, 0.012983979151984824), (152, 0.01288400977492464), (163, 0.012589354879522174), (242, 0.012416290527653227), (217, 0.012343623719229944), (6, 0.012168955173591022), (86, 0.012141094724859318), (53, 0.012050816186867366), (133, 0.01190631748750345), (12, 0.011788531281424148), (91, 0.011618784292773842), (233, 0.01154769005150943), (229, 0.011219001736164627), (83, 0.011121574195296649), (220, 0.010954933308054129), (226, 0.010941212165181149), (214, 0.010819097819037643), (139, 0.010624405546050642), (78, 0.010422683361739822), (107, 0.0103557238896052), (222, 0.010268104193294592), (37, 0.010252966266447243), (169, 0.010122360736041721), (50, 0.010072927827491428), (31, 0.01003816320366419), (102, 0.009566080344337705), (45, 0.009358378762962916), (135, 0.009244135290460635), (155, 0.00912916731159123), (207, 0.009119435984223802), (48, 0.008866099937487479), (121, 0.00883756014860818), (201, 0.008793974925385495), (142, 0.008772030899970794), (67, 0.008720375252677418), (10, 0.008713426392057542), (127, 0.00870260741923061), (178, 0.008439850703194567), (173, 0.008423476766931528), (112, 0.008335042329414677), (244, 0.008319735955200656), (180, 0.008278870300118946), (49, 0.00815997606389331), (111, 0.008027553036348983), (108, 0.008004150559645436), (9, 0.007960454215015391), (44, 0.007917912937345433), (29, 0.00779343974209098), (154, 0.007746121964837439), (1, 0.007700230289385753), (190, 0.007695458101640786), (19, 0.007664019445457961), (15, 0.007596639068439659), (68, 0.0074238325535741344), (69, 0.006928208292018313), (167, 0.006766580493916594), (191, 0.006690790092832157), (22, 0.006497687985416422), (131, 0.006420623671718647), (231, 0.006309421475134021), (17, 0.006284124130861831), (103, 0.006249890371684994), (213, 0.0058809688404918604), (70, 0.005827460859145631), (7, 0.005820625667660371), (23, 0.0057808473467190185), (166, 0.005591056008256845), (189, 0.005266291511540894), (79, 0.005173643852935296), (195, 0.00504297714121485), (18, 0.004874703432205887), (4, 0.004739255408475557), (249, 0.0045843260220608546), (138, 0.004550916392078225), (245, 0.004501982143777958), (100, 0.004468690672653551), (25, 0.00444604083492725), (117, 0.00433516223057594), (0, 0.0042504420700198295), (114, 0.00403515616105347), (218, 0.0039448926058041804), (98, 0.0039046582396649715), (63, 0.0037209360164103525), (33, 0.00368059774608561), (198, 0.0035577167206370286), (73, 0.0027166377928353356), (179, 0.0025818098968240747), (109, 0.002514418192064062), (182, 0.0025123507312875956), (30, 0.002462273274141402), (209, 0.002449981235736309), (141, 0.0022280308937739704), (88, 0.0021262848749920176), (223, 0.002068062756812392), (59, 0.0019971953037681476), (246, 0.0016566006856640115), (32, 0.0016250744403867176), (36, 0.0), (80, 0.0), (99, 0.0), (123, 0.0), (165, 0.0), (247, 0.0)]\n"
     ]
    }
   ],
   "source": [
    "# sorting the movies based on their similarity score\n",
    "\n",
    "sorted_similar_movies = sorted(similarity_score, key = lambda x:x[1], reverse = True) \n",
    "print(sorted_similar_movies)"
   ]
  },
  {
   "cell_type": "code",
   "execution_count": 53,
   "metadata": {
    "colab": {
     "base_uri": "https://localhost:8080/"
    },
    "executionInfo": {
     "elapsed": 3261,
     "status": "ok",
     "timestamp": 1634726663330,
     "user": {
      "displayName": "Siddhardhan",
      "photoUrl": "https://lh3.googleusercontent.com/a-/AOh14GhLJxzQT1JeY0k76q6coYb4x9fQwUPiyqRBlLi5=s64",
      "userId": "07040451508872554906"
     },
     "user_tz": -330
    },
    "id": "JseMqew-RW6Q",
    "outputId": "7b965227-7d40-47ac-a0cf-dfce044fc4fc"
   },
   "outputs": [
    {
     "name": "stdout",
     "output_type": "stream",
     "text": [
      "Movies suggested for you : \n",
      "\n",
      "1 . Manichitrathazhu\n",
      "2 . Chithram\n",
      "3 . Spadikam\n",
      "4 . Devasuram\n",
      "5 . Mughal-E-Azam\n",
      "6 . Alai Payuthey\n",
      "7 . Memories\n",
      "8 . Charlie\n",
      "9 . Bangalore Days\n",
      "10 . Oru Vadakkan Veeragatha\n",
      "11 . Kireedam\n",
      "12 . Vikram\n",
      "13 . Like Stars on Earth\n",
      "14 . Thalapathi\n",
      "15 . Minnal Murali\n",
      "16 . Drishyam 2\n",
      "17 . Unnaipol Oruvan\n",
      "18 . Indian\n",
      "19 . Iqbal\n",
      "20 . Iruvar\n",
      "21 . Deiva Thirumagal\n",
      "22 . The Great Indian Kitchen\n",
      "23 . Agent Sai Srinivasa Athreya\n",
      "24 . Joji\n",
      "25 . Vedam\n",
      "26 . Dhuruvangal Pathinaaru\n",
      "27 . Satya\n",
      "28 . Pokiri\n",
      "29 . Mumbai Police\n"
     ]
    }
   ],
   "source": [
    "# print the name of similar movies based on the index\n",
    "\n",
    "print('Movies suggested for you : \\n')\n",
    "\n",
    "i = 1\n",
    "\n",
    "for movie in sorted_similar_movies:\n",
    "  index = movie[0]\n",
    "  title_from_index = movies_data[movies_data.index==index]['Title'].values[0]\n",
    "  if (i<30):\n",
    "    print(i, '.',title_from_index)\n",
    "    i+=1"
   ]
  },
  {
   "cell_type": "code",
   "execution_count": 57,
   "metadata": {},
   "outputs": [],
   "source": [
    "if not find_close_match:\n",
    "    print(\"No close match found!\")\n",
    "    exit()\n"
   ]
  },
  {
   "cell_type": "code",
   "execution_count": 58,
   "metadata": {},
   "outputs": [
    {
     "name": "stdout",
     "output_type": "stream",
     "text": [
      "Close Match: 3 Idiots\n",
      "Index of Movie: 8.4\n"
     ]
    }
   ],
   "source": [
    "print(\"Close Match:\", close_match)\n",
    "print(\"Index of Movie:\", index_of_the_movie)\n"
   ]
  },
  {
   "cell_type": "code",
   "execution_count": 59,
   "metadata": {},
   "outputs": [],
   "source": [
    "if index_of_the_movie < 0 or index_of_the_movie >= len(similarity):\n",
    "    print(\"Invalid index for similarity:\", index_of_the_movie)\n",
    "    exit()\n"
   ]
  },
  {
   "cell_type": "code",
   "execution_count": 60,
   "metadata": {},
   "outputs": [],
   "source": [
    "if close_match not in movies_data.Title.values:\n",
    "    print(\"Movie not found in dataset!\")\n",
    "    exit()\n"
   ]
  },
  {
   "cell_type": "code",
   "execution_count": 61,
   "metadata": {},
   "outputs": [
    {
     "name": "stdout",
     "output_type": "stream",
     "text": [
      "Enter your favourite movie name: 3 Idiots\n",
      "Close Match Found: 3 Idiots\n",
      "Movies suggested for you:\n",
      "\n",
      "1 . 3 Idiots\n",
      "2 . Color It Yellow\n",
      "3 . PK\n",
      "4 . Dil Chahta Hai\n",
      "5 . Carry On, Munna Bhai\n",
      "6 . Kapoor and Sons\n",
      "7 . Mimi\n",
      "8 . Aadukalam\n",
      "9 . Ugly\n",
      "10 . Jo Jeeta Wohi Sikandar\n",
      "11 . The Legend of Bhagat Singh\n",
      "12 . RRR\n",
      "13 . Baby\n",
      "14 . Andaz Apna Apna\n",
      "15 . Munna Bhai M.B.B.S.\n",
      "16 . Sarfarosh\n",
      "17 . Nayattu\n",
      "18 . Lagaan: Once Upon A Time in India\n",
      "19 . Iruvar\n",
      "20 . #Home\n",
      "21 . Chhichhore\n",
      "22 . M.S. Dhoni: The Untold Story\n",
      "23 . Android Kunjappan Version 5.25\n",
      "24 . Kai Po Che\n",
      "25 . Pad Man\n",
      "26 . Haider\n",
      "27 . Dor\n",
      "28 . Deewaar\n",
      "29 . Hera Pheri\n"
     ]
    }
   ],
   "source": [
    "movie_name = input(\"Enter your favourite movie name: \")\n",
    "\n",
    "list_of_all_titles = movies_data['Title'].tolist()\n",
    "find_close_match = difflib.get_close_matches(movie_name, list_of_all_titles)\n",
    "\n",
    "if not find_close_match:\n",
    "    print(\"No close matches found! Please try again.\")\n",
    "    exit()\n",
    "\n",
    "close_match = find_close_match[0]\n",
    "print(\"Close Match Found:\", close_match)\n",
    "\n",
    "if close_match not in movies_data['Title'].values:\n",
    "    print(\"Movie not found in dataset!\")\n",
    "    exit()\n",
    "\n",
    "index_of_the_movie = movies_data[movies_data.Title == close_match].index[0]\n",
    "\n",
    "# Ensure index_of_the_movie is valid for the similarity array\n",
    "if index_of_the_movie < 0 or index_of_the_movie >= len(similarity):\n",
    "    print(\"Invalid index for similarity:\", index_of_the_movie)\n",
    "    exit()\n",
    "\n",
    "similarity_score = list(enumerate(similarity[index_of_the_movie]))\n",
    "sorted_similar_movies = sorted(similarity_score, key=lambda x: x[1], reverse=True)\n",
    "\n",
    "print(\"Movies suggested for you:\\n\")\n",
    "i = 1\n",
    "for movie in sorted_similar_movies:\n",
    "    index = movie[0]\n",
    "    title_from_index = movies_data.iloc[index]['Title']\n",
    "    if i < 30:\n",
    "        print(i, \".\", title_from_index)\n",
    "        i += 1\n"
   ]
  },
  {
   "cell_type": "markdown",
   "metadata": {
    "id": "KmXULXO9TZun"
   },
   "source": [
    "Movie Recommendation Sytem"
   ]
  },
  {
   "cell_type": "code",
   "execution_count": 63,
   "metadata": {
    "id": "dgOXLbsWUAGK"
   },
   "outputs": [],
   "source": [
    "import pickle\n",
    "with open(r'C:\\mini_proj\\Movies_Rec\\movies_list.pkl', 'rb') as file:\n",
    "    movies_list = pickle.load(file)\n",
    "\n",
    "with open(r'C:\\mini_proj\\Movies_Rec\\similarity.pkl', 'rb') as file:\n",
    "    similarity = pickle.load(file)\n"
   ]
  },
  {
   "cell_type": "code",
   "execution_count": 65,
   "metadata": {},
   "outputs": [
    {
     "ename": "IndexError",
     "evalue": "index 1 is out of bounds for axis 0 with size 0",
     "output_type": "error",
     "traceback": [
      "\u001b[1;31m---------------------------------------------------------------------------\u001b[0m",
      "\u001b[1;31mIndexError\u001b[0m                                Traceback (most recent call last)",
      "Cell \u001b[1;32mIn[65], line 2\u001b[0m\n\u001b[0;32m      1\u001b[0m \u001b[38;5;66;03m# Example: Recommend top 5 movies similar to a given movie\u001b[39;00m\n\u001b[1;32m----> 2\u001b[0m movie_index \u001b[38;5;241m=\u001b[39m movies_list[movies_list[\u001b[38;5;124m'\u001b[39m\u001b[38;5;124mTitle\u001b[39m\u001b[38;5;124m'\u001b[39m] \u001b[38;5;241m==\u001b[39m \u001b[38;5;124m'\u001b[39m\u001b[38;5;124mInception\u001b[39m\u001b[38;5;124m'\u001b[39m]\u001b[38;5;241m.\u001b[39mindex[\u001b[38;5;241m1\u001b[39m]\n\u001b[0;32m      3\u001b[0m similar_movies \u001b[38;5;241m=\u001b[39m \u001b[38;5;28mlist\u001b[39m(\u001b[38;5;28menumerate\u001b[39m(similarity[movie_index]))\n\u001b[0;32m      4\u001b[0m sorted_movies \u001b[38;5;241m=\u001b[39m \u001b[38;5;28msorted\u001b[39m(similar_movies, key\u001b[38;5;241m=\u001b[39m\u001b[38;5;28;01mlambda\u001b[39;00m x: x[\u001b[38;5;241m1\u001b[39m], reverse\u001b[38;5;241m=\u001b[39m\u001b[38;5;28;01mTrue\u001b[39;00m)[\u001b[38;5;241m1\u001b[39m:\u001b[38;5;241m6\u001b[39m]\n",
      "File \u001b[1;32m~\\anaconda3\\Lib\\site-packages\\pandas\\core\\indexes\\base.py:5320\u001b[0m, in \u001b[0;36mIndex.__getitem__\u001b[1;34m(self, key)\u001b[0m\n\u001b[0;32m   5317\u001b[0m \u001b[38;5;28;01mif\u001b[39;00m is_integer(key) \u001b[38;5;129;01mor\u001b[39;00m is_float(key):\n\u001b[0;32m   5318\u001b[0m     \u001b[38;5;66;03m# GH#44051 exclude bool, which would return a 2d ndarray\u001b[39;00m\n\u001b[0;32m   5319\u001b[0m     key \u001b[38;5;241m=\u001b[39m com\u001b[38;5;241m.\u001b[39mcast_scalar_indexer(key, warn_float\u001b[38;5;241m=\u001b[39m\u001b[38;5;28;01mTrue\u001b[39;00m)\n\u001b[1;32m-> 5320\u001b[0m     \u001b[38;5;28;01mreturn\u001b[39;00m getitem(key)\n\u001b[0;32m   5322\u001b[0m \u001b[38;5;28;01mif\u001b[39;00m \u001b[38;5;28misinstance\u001b[39m(key, \u001b[38;5;28mslice\u001b[39m):\n\u001b[0;32m   5323\u001b[0m     \u001b[38;5;66;03m# This case is separated from the conditional above to avoid\u001b[39;00m\n\u001b[0;32m   5324\u001b[0m     \u001b[38;5;66;03m# pessimization com.is_bool_indexer and ndim checks.\u001b[39;00m\n\u001b[0;32m   5325\u001b[0m     result \u001b[38;5;241m=\u001b[39m getitem(key)\n",
      "\u001b[1;31mIndexError\u001b[0m: index 1 is out of bounds for axis 0 with size 0"
     ]
    }
   ],
   "source": [
    "# Example: Recommend top 5 movies similar to a given movie\n",
    "movie_index = movies_list[movies_list['Title'] == 'Inception'].index[0]\n",
    "similar_movies = list(enumerate(similarity[movie_index]))\n",
    "sorted_movies = sorted(similar_movies, key=lambda x: x[1], reverse=True)[1:6]\n",
    "\n",
    "recommended_titles = [movies_list.iloc[i[0]]['Title'] for i in sorted_movies]\n",
    "print(recommended_titles)\n"
   ]
  },
  {
   "cell_type": "code",
   "execution_count": 66,
   "metadata": {},
   "outputs": [
    {
     "name": "stdout",
     "output_type": "stream",
     "text": [
      "0           Anbe Sivam\n",
      "1              Golmaal\n",
      "2             Jai Bhim\n",
      "3              Nayakan\n",
      "4    Pariyerum Perumal\n",
      "Name: Title, dtype: object\n",
      "False\n"
     ]
    }
   ],
   "source": [
    "print(movies_list['Title'].head())  # Check the first few titles\n",
    "print(\"Inception\" in movies_list['Title'].values)  # Check if \"Inception\" exists\n"
   ]
  },
  {
   "cell_type": "code",
   "execution_count": 69,
   "metadata": {},
   "outputs": [
    {
     "name": "stdout",
     "output_type": "stream",
     "text": [
      "Movie index for 'Vikram': 34\n"
     ]
    }
   ],
   "source": [
    "result = movies_list[movies_list['Title'] == 'Vikram']\n",
    "if result.empty:\n",
    "    print(\"The movie 'Inception' is not found in the dataset!\")\n",
    "else:\n",
    "    movie_index = result.index[0]\n",
    "    print(f\"Movie index for 'Vikram': {movie_index}\")\n"
   ]
  },
  {
   "cell_type": "code",
   "execution_count": 70,
   "metadata": {},
   "outputs": [
    {
     "name": "stdout",
     "output_type": "stream",
     "text": [
      "(250, 4)\n",
      "(250, 250)\n"
     ]
    }
   ],
   "source": [
    "print(movies_list.shape)\n",
    "print(similarity.shape)\n"
   ]
  },
  {
   "cell_type": "code",
   "execution_count": 71,
   "metadata": {},
   "outputs": [],
   "source": [
    "from sklearn.feature_extraction.text import TfidfVectorizer\n",
    "\n",
    "tfidf = TfidfVectorizer(stop_words='english')\n",
    "tfidf_matrix = tfidf.fit_transform(movies_list['Description'])\n"
   ]
  },
  {
   "cell_type": "code",
   "execution_count": 72,
   "metadata": {},
   "outputs": [
    {
     "name": "stdout",
     "output_type": "stream",
     "text": [
      "['Unnaipol Oruvan', 'A Wednesday', 'Anjaam Pathiraa', 'Black Friday', 'Baishe Srabon']\n"
     ]
    }
   ],
   "source": [
    "movie_index = movies_list[movies_list['Title'] == 'Vikram'].index[0]\n",
    "similar_movies = list(enumerate(similarity[movie_index]))\n",
    "sorted_movies = sorted(similar_movies, key=lambda x: x[1], reverse=True)[1:6]\n",
    "recommended_titles = [movies_list.iloc[i[0]]['Title'] for i in sorted_movies]\n",
    "print(recommended_titles)\n"
   ]
  },
  {
   "cell_type": "code",
   "execution_count": null,
   "metadata": {},
   "outputs": [],
   "source": []
  }
 ],
 "metadata": {
  "colab": {
   "authorship_tag": "ABX9TyM0gwEcSO5nIgCHAaPXRXWt",
   "collapsed_sections": [],
   "name": "Project 18. Movie Recommendation System using Machine Learning with Python.ipynb",
   "provenance": []
  },
  "kernelspec": {
   "display_name": "Python 3 (ipykernel)",
   "language": "python",
   "name": "python3"
  },
  "language_info": {
   "codemirror_mode": {
    "name": "ipython",
    "version": 3
   },
   "file_extension": ".py",
   "mimetype": "text/x-python",
   "name": "python",
   "nbconvert_exporter": "python",
   "pygments_lexer": "ipython3",
   "version": "3.11.4"
  }
 },
 "nbformat": 4,
 "nbformat_minor": 4
}
